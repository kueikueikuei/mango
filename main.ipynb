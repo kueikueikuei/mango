{
 "cells": [
  {
   "cell_type": "code",
   "execution_count": 1,
   "metadata": {
    "ExecuteTime": {
     "end_time": "2020-06-16T08:48:39.244351Z",
     "start_time": "2020-06-16T08:48:38.503119Z"
    }
   },
   "outputs": [],
   "source": [
    "from model import DFL_VGG16,DFL_RESNET,DFL_EfficientNet,MangoNet,MangoRegressionNet\n",
    "from dataset import MangoDataset\n",
    "from torch.utils.data import DataLoader\n",
    "from sklearn.metrics import confusion_matrix\n",
    "from util import mixup_data, mixup_criterion, plot_confusion_matrix\n",
    "from sklearn.manifold import TSNE\n",
    "from matplotlib import pyplot as plt\n",
    "import torch\n",
    "import pandas as pd\n",
    "from tqdm import tqdm\n",
    "import torch.nn.functional as F\n",
    "%matplotlib inline"
   ]
  },
  {
   "cell_type": "markdown",
   "metadata": {},
   "source": [
    "## load data"
   ]
  },
  {
   "cell_type": "code",
   "execution_count": 3,
   "metadata": {
    "ExecuteTime": {
     "end_time": "2020-06-16T08:48:42.305740Z",
     "start_time": "2020-06-16T08:48:42.289125Z"
    }
   },
   "outputs": [
    {
     "name": "stderr",
     "output_type": "stream",
     "text": [
      "/home/deep307-2-4/Data/chekuei/mango/dataset.py:42: FutureWarning: elementwise comparison failed; returning scalar instead, but in the future will perform elementwise comparison\n",
      "  label = np.where(label==\"A\", 0, label)\n",
      "/home/deep307-2-4/Data/chekuei/mango/dataset.py:43: FutureWarning: elementwise comparison failed; returning scalar instead, but in the future will perform elementwise comparison\n",
      "  label = np.where(label==\"B\", 1, label)\n",
      "/home/deep307-2-4/Data/chekuei/mango/dataset.py:44: FutureWarning: elementwise comparison failed; returning scalar instead, but in the future will perform elementwise comparison\n",
      "  numerical_lbls = np.where(label==\"C\", 2, label)\n"
     ]
    }
   ],
   "source": [
    "BATCH_SIZE=8\n",
    "trainset = MangoDataset(root = './data/', train = \"train\")\n",
    "valset = MangoDataset(root = './data/', train = \"val\")\n",
    "testset = MangoDataset(root = './data/', train = \"test\")\n",
    "# create train/val loaders\n",
    "train_loader = DataLoader(dataset=trainset,\n",
    "                          batch_size=BATCH_SIZE, \n",
    "                          shuffle=True,\n",
    "                          num_workers=1)\n",
    "\n",
    "val_loader = DataLoader(dataset=valset,\n",
    "                        batch_size=BATCH_SIZE, \n",
    "                        shuffle=False,\n",
    "                        num_workers=1)\n",
    "\n",
    "test_loader = DataLoader(dataset=testset,\n",
    "                        batch_size=BATCH_SIZE, \n",
    "                        shuffle=False,\n",
    "                        num_workers=1)\n",
    "\n",
    "train_n = len(trainset)\n",
    "val_n = len(valset)\n"
   ]
  },
  {
   "cell_type": "code",
   "execution_count": 4,
   "metadata": {
    "ExecuteTime": {
     "end_time": "2020-06-16T08:48:44.643066Z",
     "start_time": "2020-06-16T08:48:44.640442Z"
    }
   },
   "outputs": [],
   "source": [
    "EPOCH = 50\n",
    "DEVICE = \"cuda:1\"\n",
    "model_path = \"model/\""
   ]
  },
  {
   "cell_type": "markdown",
   "metadata": {},
   "source": [
    "## DFL "
   ]
  },
  {
   "cell_type": "code",
   "execution_count": null,
   "metadata": {
    "ExecuteTime": {
     "end_time": "2020-06-14T12:59:56.232358Z",
     "start_time": "2020-06-14T12:40:11.041009Z"
    }
   },
   "outputs": [],
   "source": [
    "\n",
    "# model = DFL_EfficientNet().to(DEVICE)\n",
    "# model = DFL_RESNET().to(DEVICE)\n",
    "model = DFL_VGG16().to(DEVICE)\n",
    "model.load_state_dict(torch.load(model_path+\"DFL_VGG16\"))\n",
    "ce = torch.nn.NLLLoss()\n",
    "# opt = torch.optim.Adam([{'params': model.parameters(), 'lr': 0.0001}]) ## for efficientnet\n",
    "opt = torch.optim.SGD(model.parameters(), lr=0.001, momentum=0.9, weight_decay = 0.000005)\n",
    "for i in range(EPOCH):\n",
    "    model.train()\n",
    "    for data, label in tqdm(train_loader):\n",
    "        data, label = data.to(DEVICE), label.to(DEVICE)\n",
    "        out1, out2, out3 = model(data)\n",
    "        out1, out2, out3 = F.log_softmax(out1,1), F.log_softmax(out2,1), F.log_softmax(out3,1)\n",
    "        loss = ce(out1,label)+ce(out2,label)+0.1*ce(out3,label)\n",
    "        loss.backward()\n",
    "        opt.step()\n",
    "        opt.zero_grad()\n",
    "    print(loss)\n",
    "\n",
    "    model.eval()\n",
    "    correct = 0\n",
    "    for data, label in tqdm(val_loader):\n",
    "        data, label = data.to(DEVICE), label.to(DEVICE)\n",
    "        out1, out2, out3 = model(data)\n",
    "        out = out1+out2+0.1*out3\n",
    "        pred = torch.max(out,axis=1)[1]\n",
    "        correct += torch.sum((label==pred).int()).detach().item()\n",
    "    print(\"valacc:\",correct/val_n)\n",
    "    model.eval()\n",
    "    correct = 0\n",
    "    for data, label in tqdm(train_loader):\n",
    "        data, label = data.to(DEVICE), label.to(DEVICE)\n",
    "        out1, out2, out3 = model(data)\n",
    "        out = out1+out2+0.1*out3\n",
    "        pred = torch.max(out,axis=1)[1]\n",
    "        correct += torch.sum((label==pred).int()).detach().item()\n",
    "    print(\"trainacc:\",correct/train_n)\n",
    "#     torch.save(model.state_dict(), \"DFL_VGG16_1\")"
   ]
  },
  {
   "cell_type": "markdown",
   "metadata": {},
   "source": [
    "## EfficientNet + Mixup"
   ]
  },
  {
   "cell_type": "code",
   "execution_count": null,
   "metadata": {
    "ExecuteTime": {
     "end_time": "2020-06-14T12:59:56.239634Z",
     "start_time": "2020-06-14T12:40:09.319Z"
    }
   },
   "outputs": [],
   "source": [
    "model = MangoNet().to(DEVICE)\n",
    "\n",
    "ce = torch.nn.NLLLoss()\n",
    "opt = torch.optim.Adam([{'params': model.parameters(), 'lr': 0.0001}])\n",
    "# opt = torch.optim.SGD(model.parameters(), lr=0.001, momentum=0.9, weight_decay = 0.000005)\n",
    "for i in range(EPOCH):\n",
    "    model.train()\n",
    "    for data, label in tqdm(train_loader):\n",
    "        data, label = data.to(DEVICE), label.to(DEVICE)\n",
    "        out1 = model(data)\n",
    "        out1 = F.log_softmax(out1,1)\n",
    "        loss = ce(out1,label)\n",
    "        mixed_x, y_a, y_b, lam = mixup_data(data, label)\n",
    "        pred = model(mixed_x)\n",
    "        mixloss = mixup_criterion(ce, pred, y_a, y_b, lam)\n",
    "        closs = loss+mixloss\n",
    "        closs.backward()\n",
    "        opt.step()\n",
    "        opt.zero_grad()\n",
    "    print(closs)\n",
    "    model.eval()\n",
    "    correct = 0\n",
    "    for data, label in tqdm(val_loader):\n",
    "        data, label = data.to(DEVICE), label.to(DEVICE)\n",
    "        out1 = model(data)\n",
    "\n",
    "        pred = torch.max(out1,axis=1)[1]\n",
    "        correct += torch.sum((label==pred).int()).detach().item()\n",
    "    print(\"valacc:\",correct/val_n)\n",
    "    model.eval()\n",
    "    correct = 0\n",
    "    for data, label in tqdm(train_loader):\n",
    "        data, label = data.to(DEVICE), label.to(DEVICE)\n",
    "        out1 = model(data)\n",
    "        pred = torch.max(out1,axis=1)[1]\n",
    "        correct += torch.sum((label==pred).int()).detach().item()\n",
    "    print(\"trainacc:\",correct/train_n)\n",
    "    torch.save(model.state_dict(), model_path+\"model\")\n",
    "#     "
   ]
  },
  {
   "cell_type": "markdown",
   "metadata": {
    "ExecuteTime": {
     "end_time": "2020-05-18T13:21:31.414996Z",
     "start_time": "2020-05-18T13:21:31.194918Z"
    }
   },
   "source": [
    "## DFL Feature Visualization"
   ]
  },
  {
   "cell_type": "code",
   "execution_count": null,
   "metadata": {
    "ExecuteTime": {
     "end_time": "2020-06-15T06:12:49.411985Z",
     "start_time": "2020-06-15T06:10:11.985833Z"
    }
   },
   "outputs": [],
   "source": [
    "model = DFL_VGG16().to(DEVICE)\n",
    "model.load_state_dict(torch.load(model_path+\"DFL_VGG16\"))\n",
    "model.eval()\n",
    "correct = 0\n",
    "preds,labels,val_label,val_pred=[],[],[],[]\n",
    "test_feature_a,train_feature_a,val_feature_a=[],[],[]\n",
    "for data in tqdm(test_loader):\n",
    "    data = data.to(DEVICE)\n",
    "    out1,out2,out3,feature_a,feature_b = model(data)\n",
    "    test_feature_a.append(feature_b.data.cpu())\n",
    "    out = out1+out2+0.1*out3\n",
    "    pred = torch.max(out,axis=1)[1]\n",
    "    preds.append(pred)\n",
    "for data,label in tqdm(val_loader):\n",
    "    data,label = data.to(DEVICE),label.to(DEVICE)\n",
    "    out1,out2,out3,feature_a,feature_b = model(data)\n",
    "    val_feature_a.append(feature_b.data.cpu())\n",
    "    val_label.append(label.cpu())\n",
    "for data,label in tqdm(train_loader):\n",
    "    data,label = data.to(DEVICE),label.to(DEVICE)\n",
    "    out1,out2,out3,feature_a,feature_b = model(data)\n",
    "    train_feature_a.append(feature_b.data.cpu())\n",
    "    labels.append(label.cpu())\n",
    "test_feature_a = np.asarray(torch.cat(test_feature_a).cpu().numpy())\n",
    "train_feature_a = np.asarray(torch.cat(train_feature_a).cpu().numpy())\n",
    "val_feature_a = np.asarray(torch.cat(val_feature_a).cpu().numpy())\n",
    "labels = np.asarray(torch.cat(labels).cpu().numpy())\n",
    "val_label = np.asarray(torch.cat(val_label).cpu().numpy())\n",
    "n=300\n",
    "a = np.concatenate((train_feature_a[:n].reshape(n,-1),test_feature_a[:n].reshape(n,-1)),axis=0)\n",
    "a = np.concatenate((a,val_feature_a[:n].reshape(n,-1)),axis=0)\n",
    "X_embedded = TSNE(n_components=2).fit_transform(a)\n",
    "plt.scatter(X_embedded[:n,0],X_embedded[:n,1],c=labels[:n],label=\"train\",marker=\".\",s=50)\n",
    "plt.scatter(X_embedded[n:2*n,0],X_embedded[n:2*n,1],c=\"black\",label=\"test\",marker=\".\",s=50)\n",
    "plt.scatter(X_embedded[2*n:,0],X_embedded[2*n:,1],c=val_label[:n],label=\"val\",marker=\".\",s=50)\n",
    "plt.legend(loc='upper right')\n",
    "plt.show()"
   ]
  },
  {
   "cell_type": "markdown",
   "metadata": {},
   "source": [
    "## EfficientNet Feature Visualization"
   ]
  },
  {
   "cell_type": "code",
   "execution_count": null,
   "metadata": {
    "ExecuteTime": {
     "end_time": "2020-06-15T07:29:08.877540Z",
     "start_time": "2020-06-15T07:29:07.319941Z"
    }
   },
   "outputs": [],
   "source": [
    "\n",
    "preds,labels,val_label,val_pred=[],[],[],[]\n",
    "test_feature_a,train_feature_a,val_feature_a=[],[],[]\n",
    "model = MangoNet().to(DEVICE)\n",
    "model.load_state_dict(torch.load(model_path+\"EfficientNet\"))\n",
    "for data in tqdm(test_loader):\n",
    "    data = data.to(DEVICE)\n",
    "    feature_b = model.backbone.extract_features(data)\n",
    "    test_feature_a.append(feature_b.data.cpu())\n",
    "for data,label in tqdm(val_loader):\n",
    "    data,label = data.to(DEVICE),label.to(DEVICE)\n",
    "    feature_b = model.backbone.extract_features(data)\n",
    "    val_feature_a.append(feature_b.data.cpu())\n",
    "    val_label.append(label.cpu())\n",
    "for data,label in tqdm(train_loader):\n",
    "    data,label = data.to(DEVICE),label.to(DEVICE)\n",
    "    feature_b = model.backbone.extract_features(data)\n",
    "    train_feature_a.append(feature_b.data.cpu())\n",
    "    labels.append(label.cpu())\n",
    "test_feature_a = np.asarray(torch.cat(test_feature_a).cpu().numpy())\n",
    "train_feature_a = np.asarray(torch.cat(train_feature_a).cpu().numpy())\n",
    "val_feature_a = np.asarray(torch.cat(val_feature_a).cpu().numpy())\n",
    "labels = np.asarray(torch.cat(labels).cpu().numpy())\n",
    "val_label = np.asarray(torch.cat(val_label).cpu().numpy())\n",
    "\n",
    "train_feature_a = np.mean(train_feature_a,axis=(2,3))\n",
    "test_feature_a = np.mean(test_feature_a,axis=(2,3))\n",
    "val_feature_a = np.mean(val_feature_a,axis=(2,3))\n",
    "n=300\n",
    "a = np.concatenate((train_feature_a[:n].reshape(n,-1),test_feature_a[:n].reshape(n,-1)),axis=0)\n",
    "a = np.concatenate((a,val_feature_a[:n].reshape(n,-1)),axis=0)\n",
    "X_embedded = TSNE(n_components=2).fit_transform(a)\n",
    "plt.scatter(X_embedded[:n,0],X_embedded[:n,1],c=labels[:n],label=\"train\",marker=\".\",s=50)\n",
    "plt.scatter(X_embedded[n:2*n,0],X_embedded[n:2*n,1],c=\"black\",label=\"test\",marker=\".\",s=50)\n",
    "plt.scatter(X_embedded[2*n:,0],X_embedded[2*n:,1],c=val_label[:n],label=\"val\",marker=\".\",s=50)\n",
    "plt.legend(loc='upper right')\n",
    "# plt.savefig(method+\"scatter\"+str(step)+\".png\")\n",
    "plt.show()"
   ]
  },
  {
   "cell_type": "markdown",
   "metadata": {},
   "source": [
    "## EfficientNet Testing"
   ]
  },
  {
   "cell_type": "code",
   "execution_count": null,
   "metadata": {
    "ExecuteTime": {
     "end_time": "2020-06-15T07:13:36.461672Z",
     "start_time": "2020-06-15T07:13:36.171687Z"
    }
   },
   "outputs": [],
   "source": [
    "DEVICE = \"cuda:1\"\n",
    "model = MangoNet().to(DEVICE)\n",
    "model.load_state_dict(torch.load(model_path+\"EfficientNet\"))\n",
    "model.eval()\n",
    "correct = 0\n",
    "preds=[]\n",
    "labels=[]\n",
    "for data,label in tqdm(val_loader):\n",
    "    data,label = data.to(DEVICE),label.to(DEVICE)\n",
    "    out = model(data)\n",
    "#     out = out1+out2+0.1*out3\n",
    "    pred = torch.max(out,axis=1)[1]\n",
    "    preds.append(pred)\n",
    "    labels.append(label)\n",
    "preds = np.asarray(torch.cat(preds).cpu().numpy())\n",
    "labels = np.asarray(torch.cat(labels).cpu().numpy())"
   ]
  },
  {
   "cell_type": "markdown",
   "metadata": {},
   "source": [
    "## Confusion Matrix"
   ]
  },
  {
   "cell_type": "code",
   "execution_count": null,
   "metadata": {
    "ExecuteTime": {
     "end_time": "2020-06-15T07:27:17.743562Z",
     "start_time": "2020-06-15T07:26:59.930941Z"
    }
   },
   "outputs": [],
   "source": [
    "model = DFL_VGG16().to(DEVICE)\n",
    "model.load_state_dict(torch.load(model_path+\"DFL_VGG16\"))\n",
    "model.eval()\n",
    "correct = 0\n",
    "preds=[]\n",
    "labels=[]\n",
    "for data,label in tqdm(val_loader):\n",
    "    data,label = data.to(DEVICE),label.to(DEVICE)\n",
    "    out1,out2,out3,feature_a,feature_b = model(data)\n",
    "    out = out1+out2+0.1*out3\n",
    "    pred = torch.max(out,axis=1)[1]\n",
    "    preds.append(pred)\n",
    "    labels.append(label)\n",
    "preds = np.asarray(torch.cat(preds).cpu().numpy())\n",
    "labels = np.asarray(torch.cat(labels).cpu().numpy())\n",
    "cnf_matrix = confusion_matrix(labels, preds)\n",
    "plot_confusion_matrix(cnf_matrix,classes=[a for a in range(3)],normalize=True)\n",
    "plt.show()\n",
    "\n",
    "DEVICE = \"cuda:0\"\n",
    "model = MangoNet().to(DEVICE)\n",
    "model.load_state_dict(torch.load(model_path+\"EfficientNet\"))\n",
    "model.eval()\n",
    "correct = 0\n",
    "preds,labels=[],[]\n",
    "for data,label in tqdm(val_loader):\n",
    "    data = data.to(DEVICE)\n",
    "    out = model(data)\n",
    "#     out = out1+out2+0.1*out3\n",
    "    pred = torch.max(out,axis=1)[1]\n",
    "    labels.append(label)\n",
    "    preds.append(pred)\n",
    "preds = np.asarray(torch.cat(preds).cpu().numpy())\n",
    "labels = np.asarray(torch.cat(labels).cpu().numpy())\n",
    "cnf_matrix = confusion_matrix(labels, preds)\n",
    "plot_confusion_matrix(cnf_matrix,classes=[a for a in range(3)],normalize=True)\n",
    "plt.show()"
   ]
  },
  {
   "cell_type": "markdown",
   "metadata": {},
   "source": [
    "## Submit Result"
   ]
  },
  {
   "cell_type": "code",
   "execution_count": null,
   "metadata": {
    "ExecuteTime": {
     "end_time": "2020-06-14T12:59:56.242308Z",
     "start_time": "2020-06-14T12:40:09.339Z"
    }
   },
   "outputs": [],
   "source": [
    "\n",
    "DEVICE = \"cuda:1\"\n",
    "model = MangoNet().to(DEVICE)\n",
    "model.load_state_dict(torch.load(model_path+\"EfficientNet\"))\n",
    "model.eval()\n",
    "preds=[]\n",
    "for data in tqdm(test_loader):\n",
    "    data = data.to(DEVICE)\n",
    "    out = model(data)\n",
    "#     out = out1+out2+0.1*out3\n",
    "    pred = torch.max(out,axis=1)[1]\n",
    "    preds.append(pred)\n",
    "preds = np.asarray(torch.cat(preds).cpu().numpy())\n",
    "preds = np.where(preds==0, \"A\", preds)\n",
    "preds = np.where(preds==\"1\", \"B\", preds)\n",
    "preds = np.where(preds==\"2\", \"C\", preds)\n",
    "df = pd.read_csv(\"test_example.csv\")\n",
    "df[\"label\"]=pd.Series(preds)\n",
    "df = df.set_index(\"image_id\")\n",
    "df.to_csv(\"result_DFL.csv\")"
   ]
  },
  {
   "cell_type": "markdown",
   "metadata": {},
   "source": [
    "## Efficient Regression"
   ]
  },
  {
   "cell_type": "code",
   "execution_count": 9,
   "metadata": {
    "ExecuteTime": {
     "end_time": "2020-06-16T08:50:35.618136Z",
     "start_time": "2020-06-16T08:50:32.202388Z"
    }
   },
   "outputs": [
    {
     "name": "stderr",
     "output_type": "stream",
     "text": [
      "\r",
      "  0%|          | 0/100 [00:00<?, ?it/s]"
     ]
    },
    {
     "name": "stdout",
     "output_type": "stream",
     "text": [
      "Loaded pretrained weights for efficientnet-b7\n"
     ]
    },
    {
     "name": "stderr",
     "output_type": "stream",
     "text": [
      "  2%|▏         | 2/100 [00:00<00:22,  4.39it/s]"
     ]
    },
    {
     "name": "stdout",
     "output_type": "stream",
     "text": [
      "tensor([[0.5178],\n",
      "        [0.5179],\n",
      "        [0.5422],\n",
      "        [0.5392],\n",
      "        [0.5222],\n",
      "        [0.4643],\n",
      "        [0.5047],\n",
      "        [0.5571]], device='cuda:1', grad_fn=<SigmoidBackward>)\n",
      "tensor([1, 0, 1, 1, 2, 1, 2, 0], device='cuda:1')\n",
      "tensor([[1.],\n",
      "        [1.],\n",
      "        [1.],\n",
      "        [1.],\n",
      "        [1.],\n",
      "        [1.],\n",
      "        [1.],\n",
      "        [1.]], device='cuda:1', grad_fn=<IndexPutBackward>)\n",
      "tensor([[0.5461],\n",
      "        [0.5279],\n",
      "        [0.5919],\n",
      "        [0.5314],\n",
      "        [0.5306],\n",
      "        [0.5181],\n",
      "        [0.5011],\n",
      "        [0.5429]], device='cuda:1', grad_fn=<SigmoidBackward>)\n",
      "tensor([1, 0, 0, 1, 2, 1, 2, 1], device='cuda:1')\n",
      "tensor([[1.],\n",
      "        [1.],\n",
      "        [1.],\n",
      "        [1.],\n",
      "        [1.],\n",
      "        [1.],\n",
      "        [1.],\n",
      "        [1.]], device='cuda:1', grad_fn=<IndexPutBackward>)\n"
     ]
    },
    {
     "name": "stderr",
     "output_type": "stream",
     "text": [
      "  4%|▍         | 4/100 [00:00<00:16,  5.91it/s]"
     ]
    },
    {
     "name": "stdout",
     "output_type": "stream",
     "text": [
      "tensor([[0.5297],\n",
      "        [0.5613],\n",
      "        [0.5587],\n",
      "        [0.5584],\n",
      "        [0.5991],\n",
      "        [0.5169],\n",
      "        [0.5435],\n",
      "        [0.5063]], device='cuda:1', grad_fn=<SigmoidBackward>)\n",
      "tensor([1, 0, 0, 1, 0, 0, 2, 0], device='cuda:1')\n",
      "tensor([[1.],\n",
      "        [1.],\n",
      "        [1.],\n",
      "        [1.],\n",
      "        [1.],\n",
      "        [1.],\n",
      "        [1.],\n",
      "        [1.]], device='cuda:1', grad_fn=<IndexPutBackward>)\n",
      "tensor([[0.5340],\n",
      "        [0.5240],\n",
      "        [0.5159],\n",
      "        [0.5253],\n",
      "        [0.5550],\n",
      "        [0.5218],\n",
      "        [0.5331],\n",
      "        [0.5252]], device='cuda:1', grad_fn=<SigmoidBackward>)\n",
      "tensor([1, 0, 2, 2, 1, 1, 1, 0], device='cuda:1')\n",
      "tensor([[1.],\n",
      "        [1.],\n",
      "        [1.],\n",
      "        [1.],\n",
      "        [1.],\n",
      "        [1.],\n",
      "        [1.],\n",
      "        [1.]], device='cuda:1', grad_fn=<IndexPutBackward>)\n"
     ]
    },
    {
     "name": "stderr",
     "output_type": "stream",
     "text": [
      "  6%|▌         | 6/100 [00:00<00:12,  7.34it/s]"
     ]
    },
    {
     "name": "stdout",
     "output_type": "stream",
     "text": [
      "tensor([[0.5568],\n",
      "        [0.5288],\n",
      "        [0.5215],\n",
      "        [0.5287],\n",
      "        [0.5064],\n",
      "        [0.5255],\n",
      "        [0.5471],\n",
      "        [0.5317]], device='cuda:1', grad_fn=<SigmoidBackward>)\n",
      "tensor([2, 2, 0, 0, 0, 0, 0, 0], device='cuda:1')\n",
      "tensor([[1.],\n",
      "        [1.],\n",
      "        [1.],\n",
      "        [1.],\n",
      "        [1.],\n",
      "        [1.],\n",
      "        [1.],\n",
      "        [1.]], device='cuda:1', grad_fn=<IndexPutBackward>)\n",
      "tensor([[0.5477],\n",
      "        [0.5842],\n",
      "        [0.5397],\n",
      "        [0.5335],\n",
      "        [0.5146],\n",
      "        [0.5328],\n",
      "        [0.5289],\n",
      "        [0.5519]], device='cuda:1', grad_fn=<SigmoidBackward>)\n",
      "tensor([1, 2, 0, 2, 2, 2, 1, 0], device='cuda:1')\n",
      "tensor([[1.],\n",
      "        [1.],\n",
      "        [1.],\n",
      "        [1.],\n",
      "        [1.],\n",
      "        [1.],\n",
      "        [1.],\n",
      "        [1.]], device='cuda:1', grad_fn=<IndexPutBackward>)\n"
     ]
    },
    {
     "name": "stderr",
     "output_type": "stream",
     "text": [
      "  8%|▊         | 8/100 [00:01<00:11,  7.72it/s]"
     ]
    },
    {
     "name": "stdout",
     "output_type": "stream",
     "text": [
      "tensor([[0.5651],\n",
      "        [0.5392],\n",
      "        [0.4926],\n",
      "        [0.5333],\n",
      "        [0.5268],\n",
      "        [0.5103],\n",
      "        [0.5037],\n",
      "        [0.5252]], device='cuda:1', grad_fn=<SigmoidBackward>)\n",
      "tensor([2, 0, 1, 1, 1, 2, 2, 0], device='cuda:1')\n",
      "tensor([[1.],\n",
      "        [1.],\n",
      "        [1.],\n",
      "        [1.],\n",
      "        [1.],\n",
      "        [1.],\n",
      "        [1.],\n",
      "        [1.]], device='cuda:1', grad_fn=<IndexPutBackward>)\n",
      "tensor([[0.5043],\n",
      "        [0.5566],\n",
      "        [0.5564],\n",
      "        [0.5379],\n",
      "        [0.5706],\n",
      "        [0.5313],\n",
      "        [0.5425],\n",
      "        [0.5369]], device='cuda:1', grad_fn=<SigmoidBackward>)\n",
      "tensor([1, 0, 2, 0, 1, 1, 2, 0], device='cuda:1')\n",
      "tensor([[1.],\n",
      "        [1.],\n",
      "        [1.],\n",
      "        [1.],\n",
      "        [1.],\n",
      "        [1.],\n",
      "        [1.],\n",
      "        [1.]], device='cuda:1', grad_fn=<IndexPutBackward>)\n"
     ]
    },
    {
     "name": "stderr",
     "output_type": "stream",
     "text": [
      " 10%|█         | 10/100 [00:01<00:11,  7.85it/s]"
     ]
    },
    {
     "name": "stdout",
     "output_type": "stream",
     "text": [
      "tensor([[0.5075],\n",
      "        [0.5312],\n",
      "        [0.5352],\n",
      "        [0.5189],\n",
      "        [0.5544],\n",
      "        [0.5268],\n",
      "        [0.5269],\n",
      "        [0.4963]], device='cuda:1', grad_fn=<SigmoidBackward>)\n",
      "tensor([1, 2, 2, 0, 2, 1, 2, 1], device='cuda:1')\n",
      "tensor([[1.],\n",
      "        [1.],\n",
      "        [1.],\n",
      "        [1.],\n",
      "        [1.],\n",
      "        [1.],\n",
      "        [1.],\n",
      "        [1.]], device='cuda:1', grad_fn=<IndexPutBackward>)\n",
      "tensor([[0.5465],\n",
      "        [0.4923],\n",
      "        [0.5409],\n",
      "        [0.5157],\n",
      "        [0.5084],\n",
      "        [0.4799],\n",
      "        [0.5633],\n",
      "        [0.5566]], device='cuda:1', grad_fn=<SigmoidBackward>)\n",
      "tensor([1, 2, 2, 2, 1, 0, 2, 0], device='cuda:1')\n",
      "tensor([[1.],\n",
      "        [1.],\n",
      "        [1.],\n",
      "        [1.],\n",
      "        [1.],\n",
      "        [1.],\n",
      "        [1.],\n",
      "        [1.]], device='cuda:1', grad_fn=<IndexPutBackward>)\n"
     ]
    },
    {
     "name": "stderr",
     "output_type": "stream",
     "text": [
      " 12%|█▏        | 12/100 [00:01<00:10,  8.02it/s]"
     ]
    },
    {
     "name": "stdout",
     "output_type": "stream",
     "text": [
      "tensor([[0.5215],\n",
      "        [0.5143],\n",
      "        [0.5207],\n",
      "        [0.5263],\n",
      "        [0.5097],\n",
      "        [0.5327],\n",
      "        [0.5469],\n",
      "        [0.5141]], device='cuda:1', grad_fn=<SigmoidBackward>)\n",
      "tensor([0, 2, 1, 1, 2, 2, 2, 2], device='cuda:1')\n",
      "tensor([[1.],\n",
      "        [1.],\n",
      "        [1.],\n",
      "        [1.],\n",
      "        [1.],\n",
      "        [1.],\n",
      "        [1.],\n",
      "        [1.]], device='cuda:1', grad_fn=<IndexPutBackward>)\n",
      "tensor([[0.5449],\n",
      "        [0.5403],\n",
      "        [0.5605],\n",
      "        [0.5290],\n",
      "        [0.5311],\n",
      "        [0.5223],\n",
      "        [0.5319],\n",
      "        [0.5191]], device='cuda:1', grad_fn=<SigmoidBackward>)\n",
      "tensor([0, 1, 2, 2, 1, 2, 2, 2], device='cuda:1')\n",
      "tensor([[1.],\n",
      "        [1.],\n",
      "        [1.],\n",
      "        [1.],\n",
      "        [1.],\n",
      "        [1.],\n",
      "        [1.],\n",
      "        [1.]], device='cuda:1', grad_fn=<IndexPutBackward>)\n"
     ]
    },
    {
     "name": "stderr",
     "output_type": "stream",
     "text": [
      " 14%|█▍        | 14/100 [00:01<00:10,  8.45it/s]"
     ]
    },
    {
     "name": "stdout",
     "output_type": "stream",
     "text": [
      "tensor([[0.5479],\n",
      "        [0.5242],\n",
      "        [0.5247],\n",
      "        [0.5091],\n",
      "        [0.5237],\n",
      "        [0.5170],\n",
      "        [0.5186],\n",
      "        [0.5558]], device='cuda:1', grad_fn=<SigmoidBackward>)\n",
      "tensor([1, 0, 2, 2, 2, 1, 1, 2], device='cuda:1')\n",
      "tensor([[1.],\n",
      "        [1.],\n",
      "        [1.],\n",
      "        [1.],\n",
      "        [1.],\n",
      "        [1.],\n",
      "        [1.],\n",
      "        [1.]], device='cuda:1', grad_fn=<IndexPutBackward>)\n",
      "tensor([[0.5308],\n",
      "        [0.5447],\n",
      "        [0.5515],\n",
      "        [0.5111],\n",
      "        [0.5058],\n",
      "        [0.5582],\n",
      "        [0.5184],\n",
      "        [0.5207]], device='cuda:1', grad_fn=<SigmoidBackward>)\n",
      "tensor([1, 1, 1, 1, 1, 2, 2, 0], device='cuda:1')\n",
      "tensor([[1.],\n",
      "        [1.],\n",
      "        [1.],\n",
      "        [1.],\n",
      "        [1.],\n",
      "        [1.],\n",
      "        [1.],\n",
      "        [1.]], device='cuda:1', grad_fn=<IndexPutBackward>)\n"
     ]
    },
    {
     "name": "stderr",
     "output_type": "stream",
     "text": [
      " 16%|█▌        | 16/100 [00:02<00:10,  8.09it/s]"
     ]
    },
    {
     "name": "stdout",
     "output_type": "stream",
     "text": [
      "tensor([[0.5885],\n",
      "        [0.5334],\n",
      "        [0.5366],\n",
      "        [0.5195],\n",
      "        [0.5156],\n",
      "        [0.5232],\n",
      "        [0.5097],\n",
      "        [0.5050]], device='cuda:1', grad_fn=<SigmoidBackward>)\n",
      "tensor([1, 0, 0, 2, 2, 0, 2, 0], device='cuda:1')\n",
      "tensor([[1.],\n",
      "        [1.],\n",
      "        [1.],\n",
      "        [1.],\n",
      "        [1.],\n",
      "        [1.],\n",
      "        [1.],\n",
      "        [1.]], device='cuda:1', grad_fn=<IndexPutBackward>)\n",
      "tensor([[0.5146],\n",
      "        [0.4905],\n",
      "        [0.5231],\n",
      "        [0.5446],\n",
      "        [0.5242],\n",
      "        [0.5362],\n",
      "        [0.5561],\n",
      "        [0.5386]], device='cuda:1', grad_fn=<SigmoidBackward>)\n",
      "tensor([1, 0, 2, 1, 2, 1, 0, 1], device='cuda:1')\n",
      "tensor([[1.],\n",
      "        [1.],\n",
      "        [1.],\n",
      "        [1.],\n",
      "        [1.],\n",
      "        [1.],\n",
      "        [1.],\n",
      "        [1.]], device='cuda:1', grad_fn=<IndexPutBackward>)\n"
     ]
    },
    {
     "name": "stderr",
     "output_type": "stream",
     "text": [
      " 18%|█▊        | 18/100 [00:02<00:09,  8.28it/s]"
     ]
    },
    {
     "name": "stdout",
     "output_type": "stream",
     "text": [
      "tensor([[0.5824],\n",
      "        [0.5238],\n",
      "        [0.5482],\n",
      "        [0.5315],\n",
      "        [0.5049],\n",
      "        [0.4984],\n",
      "        [0.5180],\n",
      "        [0.5163]], device='cuda:1', grad_fn=<SigmoidBackward>)\n",
      "tensor([2, 1, 0, 0, 0, 1, 0, 2], device='cuda:1')\n",
      "tensor([[1.],\n",
      "        [1.],\n",
      "        [1.],\n",
      "        [1.],\n",
      "        [1.],\n",
      "        [1.],\n",
      "        [1.],\n",
      "        [1.]], device='cuda:1', grad_fn=<IndexPutBackward>)\n",
      "tensor([[0.5347],\n",
      "        [0.5730],\n",
      "        [0.5080],\n",
      "        [0.5143],\n",
      "        [0.5573],\n",
      "        [0.5621],\n",
      "        [0.5231],\n",
      "        [0.5577]], device='cuda:1', grad_fn=<SigmoidBackward>)\n",
      "tensor([1, 1, 0, 2, 0, 1, 2, 0], device='cuda:1')\n",
      "tensor([[1.],\n",
      "        [1.],\n",
      "        [1.],\n",
      "        [1.],\n",
      "        [1.],\n",
      "        [1.],\n",
      "        [1.],\n",
      "        [1.]], device='cuda:1', grad_fn=<IndexPutBackward>)\n"
     ]
    },
    {
     "name": "stderr",
     "output_type": "stream",
     "text": [
      " 20%|██        | 20/100 [00:02<00:09,  8.17it/s]"
     ]
    },
    {
     "name": "stdout",
     "output_type": "stream",
     "text": [
      "tensor([[0.4941],\n",
      "        [0.5589],\n",
      "        [0.5081],\n",
      "        [0.5678],\n",
      "        [0.5064],\n",
      "        [0.4925],\n",
      "        [0.4821],\n",
      "        [0.4952]], device='cuda:1', grad_fn=<SigmoidBackward>)\n",
      "tensor([0, 0, 2, 1, 1, 1, 1, 1], device='cuda:1')\n",
      "tensor([[1.],\n",
      "        [1.],\n",
      "        [1.],\n",
      "        [1.],\n",
      "        [1.],\n",
      "        [1.],\n",
      "        [1.],\n",
      "        [1.]], device='cuda:1', grad_fn=<IndexPutBackward>)\n",
      "tensor([[0.5235],\n",
      "        [0.5015],\n",
      "        [0.5269],\n",
      "        [0.5316],\n",
      "        [0.5149],\n",
      "        [0.5334],\n",
      "        [0.5532],\n",
      "        [0.5131]], device='cuda:1', grad_fn=<SigmoidBackward>)\n",
      "tensor([1, 1, 1, 1, 1, 0, 2, 1], device='cuda:1')\n",
      "tensor([[1.],\n",
      "        [1.],\n",
      "        [1.],\n",
      "        [1.],\n",
      "        [1.],\n",
      "        [1.],\n",
      "        [1.],\n",
      "        [1.]], device='cuda:1', grad_fn=<IndexPutBackward>)\n"
     ]
    },
    {
     "name": "stderr",
     "output_type": "stream",
     "text": [
      " 20%|██        | 20/100 [00:02<00:10,  7.48it/s]\n"
     ]
    },
    {
     "ename": "KeyboardInterrupt",
     "evalue": "",
     "output_type": "error",
     "traceback": [
      "\u001b[0;31m---------------------------------------------------------------------------\u001b[0m",
      "\u001b[0;31mKeyboardInterrupt\u001b[0m                         Traceback (most recent call last)",
      "\u001b[0;32m<ipython-input-9-301b82525757>\u001b[0m in \u001b[0;36m<module>\u001b[0;34m\u001b[0m\n\u001b[1;32m     26\u001b[0m     \u001b[0;32mfor\u001b[0m \u001b[0mdata\u001b[0m\u001b[0;34m,\u001b[0m \u001b[0mlabel\u001b[0m \u001b[0;32min\u001b[0m \u001b[0mtqdm\u001b[0m\u001b[0;34m(\u001b[0m\u001b[0mval_loader\u001b[0m\u001b[0;34m)\u001b[0m\u001b[0;34m:\u001b[0m\u001b[0;34m\u001b[0m\u001b[0;34m\u001b[0m\u001b[0m\n\u001b[1;32m     27\u001b[0m         \u001b[0mdata\u001b[0m\u001b[0;34m,\u001b[0m \u001b[0mlabel\u001b[0m \u001b[0;34m=\u001b[0m \u001b[0mdata\u001b[0m\u001b[0;34m.\u001b[0m\u001b[0mto\u001b[0m\u001b[0;34m(\u001b[0m\u001b[0mDEVICE\u001b[0m\u001b[0;34m)\u001b[0m\u001b[0;34m,\u001b[0m \u001b[0mlabel\u001b[0m\u001b[0;34m.\u001b[0m\u001b[0mto\u001b[0m\u001b[0;34m(\u001b[0m\u001b[0mDEVICE\u001b[0m\u001b[0;34m)\u001b[0m\u001b[0;34m\u001b[0m\u001b[0;34m\u001b[0m\u001b[0m\n\u001b[0;32m---> 28\u001b[0;31m         \u001b[0mout1\u001b[0m \u001b[0;34m=\u001b[0m \u001b[0mmodel\u001b[0m\u001b[0;34m(\u001b[0m\u001b[0mdata\u001b[0m\u001b[0;34m)\u001b[0m\u001b[0;34m\u001b[0m\u001b[0;34m\u001b[0m\u001b[0m\n\u001b[0m\u001b[1;32m     29\u001b[0m         \u001b[0mout1\u001b[0m \u001b[0;34m=\u001b[0m \u001b[0mF\u001b[0m\u001b[0;34m.\u001b[0m\u001b[0msigmoid\u001b[0m\u001b[0;34m(\u001b[0m\u001b[0mout1\u001b[0m\u001b[0;34m)\u001b[0m\u001b[0;34m\u001b[0m\u001b[0;34m\u001b[0m\u001b[0m\n\u001b[1;32m     30\u001b[0m         \u001b[0mprint\u001b[0m\u001b[0;34m(\u001b[0m\u001b[0mout1\u001b[0m\u001b[0;34m)\u001b[0m\u001b[0;34m\u001b[0m\u001b[0;34m\u001b[0m\u001b[0m\n",
      "\u001b[0;32m~/.local/lib/python3.6/site-packages/torch/nn/modules/module.py\u001b[0m in \u001b[0;36m__call__\u001b[0;34m(self, *input, **kwargs)\u001b[0m\n\u001b[1;32m    548\u001b[0m             \u001b[0mresult\u001b[0m \u001b[0;34m=\u001b[0m \u001b[0mself\u001b[0m\u001b[0;34m.\u001b[0m\u001b[0m_slow_forward\u001b[0m\u001b[0;34m(\u001b[0m\u001b[0;34m*\u001b[0m\u001b[0minput\u001b[0m\u001b[0;34m,\u001b[0m \u001b[0;34m**\u001b[0m\u001b[0mkwargs\u001b[0m\u001b[0;34m)\u001b[0m\u001b[0;34m\u001b[0m\u001b[0;34m\u001b[0m\u001b[0m\n\u001b[1;32m    549\u001b[0m         \u001b[0;32melse\u001b[0m\u001b[0;34m:\u001b[0m\u001b[0;34m\u001b[0m\u001b[0;34m\u001b[0m\u001b[0m\n\u001b[0;32m--> 550\u001b[0;31m             \u001b[0mresult\u001b[0m \u001b[0;34m=\u001b[0m \u001b[0mself\u001b[0m\u001b[0;34m.\u001b[0m\u001b[0mforward\u001b[0m\u001b[0;34m(\u001b[0m\u001b[0;34m*\u001b[0m\u001b[0minput\u001b[0m\u001b[0;34m,\u001b[0m \u001b[0;34m**\u001b[0m\u001b[0mkwargs\u001b[0m\u001b[0;34m)\u001b[0m\u001b[0;34m\u001b[0m\u001b[0;34m\u001b[0m\u001b[0m\n\u001b[0m\u001b[1;32m    551\u001b[0m         \u001b[0;32mfor\u001b[0m \u001b[0mhook\u001b[0m \u001b[0;32min\u001b[0m \u001b[0mself\u001b[0m\u001b[0;34m.\u001b[0m\u001b[0m_forward_hooks\u001b[0m\u001b[0;34m.\u001b[0m\u001b[0mvalues\u001b[0m\u001b[0;34m(\u001b[0m\u001b[0;34m)\u001b[0m\u001b[0;34m:\u001b[0m\u001b[0;34m\u001b[0m\u001b[0;34m\u001b[0m\u001b[0m\n\u001b[1;32m    552\u001b[0m             \u001b[0mhook_result\u001b[0m \u001b[0;34m=\u001b[0m \u001b[0mhook\u001b[0m\u001b[0;34m(\u001b[0m\u001b[0mself\u001b[0m\u001b[0;34m,\u001b[0m \u001b[0minput\u001b[0m\u001b[0;34m,\u001b[0m \u001b[0mresult\u001b[0m\u001b[0;34m)\u001b[0m\u001b[0;34m\u001b[0m\u001b[0;34m\u001b[0m\u001b[0m\n",
      "\u001b[0;32m~/Data/chekuei/mango/model.py\u001b[0m in \u001b[0;36mforward\u001b[0;34m(self, x)\u001b[0m\n\u001b[1;32m    203\u001b[0m         \u001b[0mself\u001b[0m\u001b[0;34m.\u001b[0m\u001b[0mbackbone\u001b[0m \u001b[0;34m=\u001b[0m \u001b[0mEfficientNet\u001b[0m\u001b[0;34m.\u001b[0m\u001b[0mfrom_pretrained\u001b[0m\u001b[0;34m(\u001b[0m\u001b[0;34m'efficientnet-b7'\u001b[0m\u001b[0;34m,\u001b[0m \u001b[0mnum_classes\u001b[0m\u001b[0;34m=\u001b[0m\u001b[0;36m1\u001b[0m\u001b[0;34m)\u001b[0m\u001b[0;34m\u001b[0m\u001b[0;34m\u001b[0m\u001b[0m\n\u001b[1;32m    204\u001b[0m     \u001b[0;32mdef\u001b[0m \u001b[0mforward\u001b[0m\u001b[0;34m(\u001b[0m\u001b[0mself\u001b[0m\u001b[0;34m,\u001b[0m \u001b[0mx\u001b[0m\u001b[0;34m)\u001b[0m\u001b[0;34m:\u001b[0m\u001b[0;34m\u001b[0m\u001b[0;34m\u001b[0m\u001b[0m\n\u001b[0;32m--> 205\u001b[0;31m         \u001b[0mx\u001b[0m \u001b[0;34m=\u001b[0m \u001b[0mself\u001b[0m\u001b[0;34m.\u001b[0m\u001b[0mbackbone\u001b[0m\u001b[0;34m(\u001b[0m\u001b[0mx\u001b[0m\u001b[0;34m)\u001b[0m\u001b[0;34m\u001b[0m\u001b[0;34m\u001b[0m\u001b[0m\n\u001b[0m\u001b[1;32m    206\u001b[0m         \u001b[0;32mreturn\u001b[0m \u001b[0mx\u001b[0m\u001b[0;34m\u001b[0m\u001b[0;34m\u001b[0m\u001b[0m\n",
      "\u001b[0;32m~/.local/lib/python3.6/site-packages/torch/nn/modules/module.py\u001b[0m in \u001b[0;36m__call__\u001b[0;34m(self, *input, **kwargs)\u001b[0m\n\u001b[1;32m    548\u001b[0m             \u001b[0mresult\u001b[0m \u001b[0;34m=\u001b[0m \u001b[0mself\u001b[0m\u001b[0;34m.\u001b[0m\u001b[0m_slow_forward\u001b[0m\u001b[0;34m(\u001b[0m\u001b[0;34m*\u001b[0m\u001b[0minput\u001b[0m\u001b[0;34m,\u001b[0m \u001b[0;34m**\u001b[0m\u001b[0mkwargs\u001b[0m\u001b[0;34m)\u001b[0m\u001b[0;34m\u001b[0m\u001b[0;34m\u001b[0m\u001b[0m\n\u001b[1;32m    549\u001b[0m         \u001b[0;32melse\u001b[0m\u001b[0;34m:\u001b[0m\u001b[0;34m\u001b[0m\u001b[0;34m\u001b[0m\u001b[0m\n\u001b[0;32m--> 550\u001b[0;31m             \u001b[0mresult\u001b[0m \u001b[0;34m=\u001b[0m \u001b[0mself\u001b[0m\u001b[0;34m.\u001b[0m\u001b[0mforward\u001b[0m\u001b[0;34m(\u001b[0m\u001b[0;34m*\u001b[0m\u001b[0minput\u001b[0m\u001b[0;34m,\u001b[0m \u001b[0;34m**\u001b[0m\u001b[0mkwargs\u001b[0m\u001b[0;34m)\u001b[0m\u001b[0;34m\u001b[0m\u001b[0;34m\u001b[0m\u001b[0m\n\u001b[0m\u001b[1;32m    551\u001b[0m         \u001b[0;32mfor\u001b[0m \u001b[0mhook\u001b[0m \u001b[0;32min\u001b[0m \u001b[0mself\u001b[0m\u001b[0;34m.\u001b[0m\u001b[0m_forward_hooks\u001b[0m\u001b[0;34m.\u001b[0m\u001b[0mvalues\u001b[0m\u001b[0;34m(\u001b[0m\u001b[0;34m)\u001b[0m\u001b[0;34m:\u001b[0m\u001b[0;34m\u001b[0m\u001b[0;34m\u001b[0m\u001b[0m\n\u001b[1;32m    552\u001b[0m             \u001b[0mhook_result\u001b[0m \u001b[0;34m=\u001b[0m \u001b[0mhook\u001b[0m\u001b[0;34m(\u001b[0m\u001b[0mself\u001b[0m\u001b[0;34m,\u001b[0m \u001b[0minput\u001b[0m\u001b[0;34m,\u001b[0m \u001b[0mresult\u001b[0m\u001b[0;34m)\u001b[0m\u001b[0;34m\u001b[0m\u001b[0;34m\u001b[0m\u001b[0m\n",
      "\u001b[0;32m~/anaconda3/envs/chekuei/lib/python3.6/site-packages/efficientnet_pytorch/model.py\u001b[0m in \u001b[0;36mforward\u001b[0;34m(self, inputs)\u001b[0m\n\u001b[1;32m    191\u001b[0m         \u001b[0mbs\u001b[0m \u001b[0;34m=\u001b[0m \u001b[0minputs\u001b[0m\u001b[0;34m.\u001b[0m\u001b[0msize\u001b[0m\u001b[0;34m(\u001b[0m\u001b[0;36m0\u001b[0m\u001b[0;34m)\u001b[0m\u001b[0;34m\u001b[0m\u001b[0;34m\u001b[0m\u001b[0m\n\u001b[1;32m    192\u001b[0m         \u001b[0;31m# Convolution layers\u001b[0m\u001b[0;34m\u001b[0m\u001b[0;34m\u001b[0m\u001b[0;34m\u001b[0m\u001b[0m\n\u001b[0;32m--> 193\u001b[0;31m         \u001b[0mx\u001b[0m \u001b[0;34m=\u001b[0m \u001b[0mself\u001b[0m\u001b[0;34m.\u001b[0m\u001b[0mextract_features\u001b[0m\u001b[0;34m(\u001b[0m\u001b[0minputs\u001b[0m\u001b[0;34m)\u001b[0m\u001b[0;34m\u001b[0m\u001b[0;34m\u001b[0m\u001b[0m\n\u001b[0m\u001b[1;32m    194\u001b[0m \u001b[0;34m\u001b[0m\u001b[0m\n\u001b[1;32m    195\u001b[0m         \u001b[0;31m# Pooling and final linear layer\u001b[0m\u001b[0;34m\u001b[0m\u001b[0;34m\u001b[0m\u001b[0;34m\u001b[0m\u001b[0m\n",
      "\u001b[0;32m~/anaconda3/envs/chekuei/lib/python3.6/site-packages/efficientnet_pytorch/model.py\u001b[0m in \u001b[0;36mextract_features\u001b[0;34m(self, inputs)\u001b[0m\n\u001b[1;32m    180\u001b[0m             \u001b[0;32mif\u001b[0m \u001b[0mdrop_connect_rate\u001b[0m\u001b[0;34m:\u001b[0m\u001b[0;34m\u001b[0m\u001b[0;34m\u001b[0m\u001b[0m\n\u001b[1;32m    181\u001b[0m                 \u001b[0mdrop_connect_rate\u001b[0m \u001b[0;34m*=\u001b[0m \u001b[0mfloat\u001b[0m\u001b[0;34m(\u001b[0m\u001b[0midx\u001b[0m\u001b[0;34m)\u001b[0m \u001b[0;34m/\u001b[0m \u001b[0mlen\u001b[0m\u001b[0;34m(\u001b[0m\u001b[0mself\u001b[0m\u001b[0;34m.\u001b[0m\u001b[0m_blocks\u001b[0m\u001b[0;34m)\u001b[0m\u001b[0;34m\u001b[0m\u001b[0;34m\u001b[0m\u001b[0m\n\u001b[0;32m--> 182\u001b[0;31m             \u001b[0mx\u001b[0m \u001b[0;34m=\u001b[0m \u001b[0mblock\u001b[0m\u001b[0;34m(\u001b[0m\u001b[0mx\u001b[0m\u001b[0;34m,\u001b[0m \u001b[0mdrop_connect_rate\u001b[0m\u001b[0;34m=\u001b[0m\u001b[0mdrop_connect_rate\u001b[0m\u001b[0;34m)\u001b[0m\u001b[0;34m\u001b[0m\u001b[0;34m\u001b[0m\u001b[0m\n\u001b[0m\u001b[1;32m    183\u001b[0m \u001b[0;34m\u001b[0m\u001b[0m\n\u001b[1;32m    184\u001b[0m         \u001b[0;31m# Head\u001b[0m\u001b[0;34m\u001b[0m\u001b[0;34m\u001b[0m\u001b[0;34m\u001b[0m\u001b[0m\n",
      "\u001b[0;32m~/.local/lib/python3.6/site-packages/torch/nn/modules/module.py\u001b[0m in \u001b[0;36m__call__\u001b[0;34m(self, *input, **kwargs)\u001b[0m\n\u001b[1;32m    548\u001b[0m             \u001b[0mresult\u001b[0m \u001b[0;34m=\u001b[0m \u001b[0mself\u001b[0m\u001b[0;34m.\u001b[0m\u001b[0m_slow_forward\u001b[0m\u001b[0;34m(\u001b[0m\u001b[0;34m*\u001b[0m\u001b[0minput\u001b[0m\u001b[0;34m,\u001b[0m \u001b[0;34m**\u001b[0m\u001b[0mkwargs\u001b[0m\u001b[0;34m)\u001b[0m\u001b[0;34m\u001b[0m\u001b[0;34m\u001b[0m\u001b[0m\n\u001b[1;32m    549\u001b[0m         \u001b[0;32melse\u001b[0m\u001b[0;34m:\u001b[0m\u001b[0;34m\u001b[0m\u001b[0;34m\u001b[0m\u001b[0m\n\u001b[0;32m--> 550\u001b[0;31m             \u001b[0mresult\u001b[0m \u001b[0;34m=\u001b[0m \u001b[0mself\u001b[0m\u001b[0;34m.\u001b[0m\u001b[0mforward\u001b[0m\u001b[0;34m(\u001b[0m\u001b[0;34m*\u001b[0m\u001b[0minput\u001b[0m\u001b[0;34m,\u001b[0m \u001b[0;34m**\u001b[0m\u001b[0mkwargs\u001b[0m\u001b[0;34m)\u001b[0m\u001b[0;34m\u001b[0m\u001b[0;34m\u001b[0m\u001b[0m\n\u001b[0m\u001b[1;32m    551\u001b[0m         \u001b[0;32mfor\u001b[0m \u001b[0mhook\u001b[0m \u001b[0;32min\u001b[0m \u001b[0mself\u001b[0m\u001b[0;34m.\u001b[0m\u001b[0m_forward_hooks\u001b[0m\u001b[0;34m.\u001b[0m\u001b[0mvalues\u001b[0m\u001b[0;34m(\u001b[0m\u001b[0;34m)\u001b[0m\u001b[0;34m:\u001b[0m\u001b[0;34m\u001b[0m\u001b[0;34m\u001b[0m\u001b[0m\n\u001b[1;32m    552\u001b[0m             \u001b[0mhook_result\u001b[0m \u001b[0;34m=\u001b[0m \u001b[0mhook\u001b[0m\u001b[0;34m(\u001b[0m\u001b[0mself\u001b[0m\u001b[0;34m,\u001b[0m \u001b[0minput\u001b[0m\u001b[0;34m,\u001b[0m \u001b[0mresult\u001b[0m\u001b[0;34m)\u001b[0m\u001b[0;34m\u001b[0m\u001b[0;34m\u001b[0m\u001b[0m\n",
      "\u001b[0;32m~/anaconda3/envs/chekuei/lib/python3.6/site-packages/efficientnet_pytorch/model.py\u001b[0m in \u001b[0;36mforward\u001b[0;34m(self, inputs, drop_connect_rate)\u001b[0m\n\u001b[1;32m     76\u001b[0m         \u001b[0;32mif\u001b[0m \u001b[0mself\u001b[0m\u001b[0;34m.\u001b[0m\u001b[0m_block_args\u001b[0m\u001b[0;34m.\u001b[0m\u001b[0mexpand_ratio\u001b[0m \u001b[0;34m!=\u001b[0m \u001b[0;36m1\u001b[0m\u001b[0;34m:\u001b[0m\u001b[0;34m\u001b[0m\u001b[0;34m\u001b[0m\u001b[0m\n\u001b[1;32m     77\u001b[0m             \u001b[0mx\u001b[0m \u001b[0;34m=\u001b[0m \u001b[0mself\u001b[0m\u001b[0;34m.\u001b[0m\u001b[0m_swish\u001b[0m\u001b[0;34m(\u001b[0m\u001b[0mself\u001b[0m\u001b[0;34m.\u001b[0m\u001b[0m_bn0\u001b[0m\u001b[0;34m(\u001b[0m\u001b[0mself\u001b[0m\u001b[0;34m.\u001b[0m\u001b[0m_expand_conv\u001b[0m\u001b[0;34m(\u001b[0m\u001b[0minputs\u001b[0m\u001b[0;34m)\u001b[0m\u001b[0;34m)\u001b[0m\u001b[0;34m)\u001b[0m\u001b[0;34m\u001b[0m\u001b[0;34m\u001b[0m\u001b[0m\n\u001b[0;32m---> 78\u001b[0;31m         \u001b[0mx\u001b[0m \u001b[0;34m=\u001b[0m \u001b[0mself\u001b[0m\u001b[0;34m.\u001b[0m\u001b[0m_swish\u001b[0m\u001b[0;34m(\u001b[0m\u001b[0mself\u001b[0m\u001b[0;34m.\u001b[0m\u001b[0m_bn1\u001b[0m\u001b[0;34m(\u001b[0m\u001b[0mself\u001b[0m\u001b[0;34m.\u001b[0m\u001b[0m_depthwise_conv\u001b[0m\u001b[0;34m(\u001b[0m\u001b[0mx\u001b[0m\u001b[0;34m)\u001b[0m\u001b[0;34m)\u001b[0m\u001b[0;34m)\u001b[0m\u001b[0;34m\u001b[0m\u001b[0;34m\u001b[0m\u001b[0m\n\u001b[0m\u001b[1;32m     79\u001b[0m \u001b[0;34m\u001b[0m\u001b[0m\n\u001b[1;32m     80\u001b[0m         \u001b[0;31m# Squeeze and Excitation\u001b[0m\u001b[0;34m\u001b[0m\u001b[0;34m\u001b[0m\u001b[0;34m\u001b[0m\u001b[0m\n",
      "\u001b[0;32m~/.local/lib/python3.6/site-packages/torch/nn/modules/module.py\u001b[0m in \u001b[0;36m__call__\u001b[0;34m(self, *input, **kwargs)\u001b[0m\n\u001b[1;32m    548\u001b[0m             \u001b[0mresult\u001b[0m \u001b[0;34m=\u001b[0m \u001b[0mself\u001b[0m\u001b[0;34m.\u001b[0m\u001b[0m_slow_forward\u001b[0m\u001b[0;34m(\u001b[0m\u001b[0;34m*\u001b[0m\u001b[0minput\u001b[0m\u001b[0;34m,\u001b[0m \u001b[0;34m**\u001b[0m\u001b[0mkwargs\u001b[0m\u001b[0;34m)\u001b[0m\u001b[0;34m\u001b[0m\u001b[0;34m\u001b[0m\u001b[0m\n\u001b[1;32m    549\u001b[0m         \u001b[0;32melse\u001b[0m\u001b[0;34m:\u001b[0m\u001b[0;34m\u001b[0m\u001b[0;34m\u001b[0m\u001b[0m\n\u001b[0;32m--> 550\u001b[0;31m             \u001b[0mresult\u001b[0m \u001b[0;34m=\u001b[0m \u001b[0mself\u001b[0m\u001b[0;34m.\u001b[0m\u001b[0mforward\u001b[0m\u001b[0;34m(\u001b[0m\u001b[0;34m*\u001b[0m\u001b[0minput\u001b[0m\u001b[0;34m,\u001b[0m \u001b[0;34m**\u001b[0m\u001b[0mkwargs\u001b[0m\u001b[0;34m)\u001b[0m\u001b[0;34m\u001b[0m\u001b[0;34m\u001b[0m\u001b[0m\n\u001b[0m\u001b[1;32m    551\u001b[0m         \u001b[0;32mfor\u001b[0m \u001b[0mhook\u001b[0m \u001b[0;32min\u001b[0m \u001b[0mself\u001b[0m\u001b[0;34m.\u001b[0m\u001b[0m_forward_hooks\u001b[0m\u001b[0;34m.\u001b[0m\u001b[0mvalues\u001b[0m\u001b[0;34m(\u001b[0m\u001b[0;34m)\u001b[0m\u001b[0;34m:\u001b[0m\u001b[0;34m\u001b[0m\u001b[0;34m\u001b[0m\u001b[0m\n\u001b[1;32m    552\u001b[0m             \u001b[0mhook_result\u001b[0m \u001b[0;34m=\u001b[0m \u001b[0mhook\u001b[0m\u001b[0;34m(\u001b[0m\u001b[0mself\u001b[0m\u001b[0;34m,\u001b[0m \u001b[0minput\u001b[0m\u001b[0;34m,\u001b[0m \u001b[0mresult\u001b[0m\u001b[0;34m)\u001b[0m\u001b[0;34m\u001b[0m\u001b[0;34m\u001b[0m\u001b[0m\n",
      "\u001b[0;32m~/anaconda3/envs/chekuei/lib/python3.6/site-packages/efficientnet_pytorch/utils.py\u001b[0m in \u001b[0;36mforward\u001b[0;34m(self, x)\u001b[0m\n\u001b[1;32m    142\u001b[0m     \u001b[0;32mdef\u001b[0m \u001b[0mforward\u001b[0m\u001b[0;34m(\u001b[0m\u001b[0mself\u001b[0m\u001b[0;34m,\u001b[0m \u001b[0mx\u001b[0m\u001b[0;34m)\u001b[0m\u001b[0;34m:\u001b[0m\u001b[0;34m\u001b[0m\u001b[0;34m\u001b[0m\u001b[0m\n\u001b[1;32m    143\u001b[0m         \u001b[0mx\u001b[0m \u001b[0;34m=\u001b[0m \u001b[0mself\u001b[0m\u001b[0;34m.\u001b[0m\u001b[0mstatic_padding\u001b[0m\u001b[0;34m(\u001b[0m\u001b[0mx\u001b[0m\u001b[0;34m)\u001b[0m\u001b[0;34m\u001b[0m\u001b[0;34m\u001b[0m\u001b[0m\n\u001b[0;32m--> 144\u001b[0;31m         \u001b[0mx\u001b[0m \u001b[0;34m=\u001b[0m \u001b[0mF\u001b[0m\u001b[0;34m.\u001b[0m\u001b[0mconv2d\u001b[0m\u001b[0;34m(\u001b[0m\u001b[0mx\u001b[0m\u001b[0;34m,\u001b[0m \u001b[0mself\u001b[0m\u001b[0;34m.\u001b[0m\u001b[0mweight\u001b[0m\u001b[0;34m,\u001b[0m \u001b[0mself\u001b[0m\u001b[0;34m.\u001b[0m\u001b[0mbias\u001b[0m\u001b[0;34m,\u001b[0m \u001b[0mself\u001b[0m\u001b[0;34m.\u001b[0m\u001b[0mstride\u001b[0m\u001b[0;34m,\u001b[0m \u001b[0mself\u001b[0m\u001b[0;34m.\u001b[0m\u001b[0mpadding\u001b[0m\u001b[0;34m,\u001b[0m \u001b[0mself\u001b[0m\u001b[0;34m.\u001b[0m\u001b[0mdilation\u001b[0m\u001b[0;34m,\u001b[0m \u001b[0mself\u001b[0m\u001b[0;34m.\u001b[0m\u001b[0mgroups\u001b[0m\u001b[0;34m)\u001b[0m\u001b[0;34m\u001b[0m\u001b[0;34m\u001b[0m\u001b[0m\n\u001b[0m\u001b[1;32m    145\u001b[0m         \u001b[0;32mreturn\u001b[0m \u001b[0mx\u001b[0m\u001b[0;34m\u001b[0m\u001b[0;34m\u001b[0m\u001b[0m\n\u001b[1;32m    146\u001b[0m \u001b[0;34m\u001b[0m\u001b[0m\n",
      "\u001b[0;31mKeyboardInterrupt\u001b[0m: "
     ]
    }
   ],
   "source": [
    "\n",
    "EPOCH = 50\n",
    "DEVICE = \"cuda:1\"\n",
    "model = MangoRegressionNet().to(DEVICE)\n",
    "\n",
    "ce = torch.nn.NLLLoss()\n",
    "mse = torch.nn.MSELoss()\n",
    "opt = torch.optim.Adam([{'params': model.parameters(), 'lr': 0.0001}])\n",
    "# opt = torch.optim.SGD(model.parameters(), lr=0.001, momentum=0.9, weight_decay = 0.000005)\n",
    "for i in range(EPOCH):\n",
    "#     model.train()\n",
    "#     for data, label in tqdm(train_loader):\n",
    "#         data, label = data.to(DEVICE), label.to(DEVICE).float()/2\n",
    "#         out1 = model(data)\n",
    "#         out1 = F.sigmoid(out1)\n",
    "#         loss = mse(out1,label)\n",
    "# #         mixed_x, y_a, y_b, lam = mixup_data(data, label)\n",
    "# #         pred = model(mixed_x)\n",
    "# #         mixloss = mixup_criterion(ce, pred, y_a, y_b, lam)\n",
    "#         closs = loss#+mixloss\n",
    "#         closs.backward()\n",
    "#         opt.step()\n",
    "#         opt.zero_grad()\n",
    "#     print(closs)\n",
    "    model.eval()\n",
    "    correct = 0\n",
    "    for data, label in tqdm(val_loader):\n",
    "        data, label = data.to(DEVICE), label.to(DEVICE)\n",
    "        out1 = model(data)\n",
    "        out1 = F.sigmoid(out1)\n",
    "        print(out1)\n",
    "        out1[out1< 0.33]=0\n",
    "        out1[out1>0.66]=2\n",
    "        out1[(0.33< out1) & (out1 < 0.66)]=1\n",
    "        \n",
    "        print(label)\n",
    "        print(out1)\n",
    "        correct += torch.sum((label==out1.reshape(-1)).int()).detach().item()\n",
    "    print(\"valacc:\",correct/val_n)\n",
    "    model.eval()\n",
    "    correct = 0\n",
    "    for data, label in tqdm(train_loader):\n",
    "        data, label = data.to(DEVICE), label.to(DEVICE)\n",
    "        out1 = model(data)\n",
    "        out1 = F.sigmoid(out1)\n",
    "        out1 = torch.where(out1 < 0.33, torch.tensor(0.), out1)\n",
    "        out1 = torch.where((0.33< out1) & (out1 < 0.66), torch.tensor(1.), out1)\n",
    "        pred = torch.where(out1 > 0.66, torch.tensor(2.), out1)\n",
    "        correct += torch.sum((label==pred).int()).detach().item()\n",
    "    print(\"trainacc:\",correct/train_n)\n",
    "    torch.save(model.state_dict(), model_path+\"regressionmodel\")"
   ]
  },
  {
   "cell_type": "code",
   "execution_count": null,
   "metadata": {},
   "outputs": [],
   "source": []
  }
 ],
 "metadata": {
  "kernelspec": {
   "display_name": "Python [conda env:chekuei]",
   "language": "python",
   "name": "conda-env-chekuei-py"
  },
  "language_info": {
   "codemirror_mode": {
    "name": "ipython",
    "version": 3
   },
   "file_extension": ".py",
   "mimetype": "text/x-python",
   "name": "python",
   "nbconvert_exporter": "python",
   "pygments_lexer": "ipython3",
   "version": "3.6.9"
  },
  "toc": {
   "base_numbering": 1,
   "nav_menu": {},
   "number_sections": true,
   "sideBar": true,
   "skip_h1_title": false,
   "title_cell": "Table of Contents",
   "title_sidebar": "Contents",
   "toc_cell": false,
   "toc_position": {},
   "toc_section_display": true,
   "toc_window_display": false
  },
  "varInspector": {
   "cols": {
    "lenName": 16,
    "lenType": 16,
    "lenVar": 40
   },
   "kernels_config": {
    "python": {
     "delete_cmd_postfix": "",
     "delete_cmd_prefix": "del ",
     "library": "var_list.py",
     "varRefreshCmd": "print(var_dic_list())"
    },
    "r": {
     "delete_cmd_postfix": ") ",
     "delete_cmd_prefix": "rm(",
     "library": "var_list.r",
     "varRefreshCmd": "cat(var_dic_list()) "
    }
   },
   "types_to_exclude": [
    "module",
    "function",
    "builtin_function_or_method",
    "instance",
    "_Feature"
   ],
   "window_display": false
  }
 },
 "nbformat": 4,
 "nbformat_minor": 4
}
