{
 "cells": [
  {
   "cell_type": "code",
   "execution_count": null,
   "metadata": {
    "ExecuteTime": {
     "end_time": "2020-06-15T07:20:30.867133Z",
     "start_time": "2020-06-15T07:20:30.278344Z"
    }
   },
   "outputs": [],
   "source": [
    "from model import DFL_VGG16,DFL_RESNET,DFL_EfficientNet,MangoNet\n",
    "from dataset import MangoDataset\n",
    "from sklearn.metrics import confusion_matrix\n",
    "from util import mixup_data, mixup_criterion, plot_confusion_matrix\n",
    "from sklearn.manifold import TSNE\n",
    "from matplotlib import pyplot as plt\n",
    "import pandas as pd\n",
    "%matplotlib inline"
   ]
  },
  {
   "cell_type": "markdown",
   "metadata": {},
   "source": [
    "## load data"
   ]
  },
  {
   "cell_type": "code",
   "execution_count": null,
   "metadata": {
    "ExecuteTime": {
     "end_time": "2020-06-15T07:20:31.109980Z",
     "start_time": "2020-06-15T07:20:31.094264Z"
    }
   },
   "outputs": [],
   "source": [
    "BATCH_SIZE=8\n",
    "trainset = MangoDataset(root = './', train = \"train\")\n",
    "valset = MangoDataset(root = './', train = \"val\")\n",
    "testset = MangoDataset(root = './', train = \"test\")\n",
    "# create train/val loaders\n",
    "train_loader = DataLoader(dataset=trainset,\n",
    "                          batch_size=BATCH_SIZE, \n",
    "                          shuffle=True,\n",
    "                          num_workers=1)\n",
    "train_n = len(trainset)\n",
    "val_n = len(valset)\n",
    "val_loader = DataLoader(dataset=valset,\n",
    "                        batch_size=BATCH_SIZE, \n",
    "                        shuffle=False,\n",
    "                        num_workers=1)\n",
    "\n",
    "test_loader = DataLoader(dataset=testset,\n",
    "                        batch_size=BATCH_SIZE, \n",
    "                        shuffle=False,\n",
    "                        num_workers=1)"
   ]
  },
  {
   "cell_type": "markdown",
   "metadata": {},
   "source": [
    "## DFL "
   ]
  },
  {
   "cell_type": "code",
   "execution_count": null,
   "metadata": {
    "ExecuteTime": {
     "end_time": "2020-06-14T12:59:56.232358Z",
     "start_time": "2020-06-14T12:40:11.041009Z"
    }
   },
   "outputs": [],
   "source": [
    "EPOCH = 50\n",
    "DEVICE = \"cuda:1\"\n",
    "# model = DFL_EfficientNet().to(DEVICE)\n",
    "# model = DFL_RESNET().to(DEVICE)\n",
    "model = DFL_VGG16().to(DEVICE)\n",
    "model.load_state_dict(torch.load(\"DFL_VGG16\"))\n",
    "ce = torch.nn.NLLLoss()\n",
    "# opt = torch.optim.Adam([{'params': model.parameters(), 'lr': 0.0001}]) ## for efficientnet\n",
    "opt = torch.optim.SGD(model.parameters(), lr=0.001, momentum=0.9, weight_decay = 0.000005)\n",
    "for i in range(EPOCH):\n",
    "    model.train()\n",
    "    for data, label in tqdm(train_loader):\n",
    "        data, label = data.to(DEVICE), label.to(DEVICE)\n",
    "        out1, out2, out3 = model(data)\n",
    "        out1, out2, out3 = F.log_softmax(out1,1), F.log_softmax(out2,1), F.log_softmax(out3,1)\n",
    "        loss = ce(out1,label)+ce(out2,label)+0.1*ce(out3,label)\n",
    "        loss.backward()\n",
    "        opt.step()\n",
    "        opt.zero_grad()\n",
    "    print(loss)\n",
    "    torch.cuda.empty_cache()\n",
    "    model.eval()\n",
    "    correct = 0\n",
    "    for data, label in tqdm(val_loader):\n",
    "        data, label = data.to(DEVICE), label.to(DEVICE)\n",
    "        out1, out2, out3 = model(data)\n",
    "        out = out1+out2+0.1*out3\n",
    "        pred = torch.max(out,axis=1)[1]\n",
    "        correct += torch.sum((label==pred).int()).detach().item()\n",
    "    print(\"valacc:\",correct/val_n)\n",
    "    torch.cuda.empty_cache()\n",
    "    model.eval()\n",
    "    correct = 0\n",
    "    for data, label in tqdm(train_loader):\n",
    "        data, label = data.to(DEVICE), label.to(DEVICE)\n",
    "        out1, out2, out3 = model(data)\n",
    "        out = out1+out2+0.1*out3\n",
    "        pred = torch.max(out,axis=1)[1]\n",
    "        correct += torch.sum((label==pred).int()).detach().item()\n",
    "    print(\"trainacc:\",correct/train_n)\n",
    "    torch.cuda.empty_cache()\n",
    "#     torch.save(model.state_dict(), \"DFL_VGG16_1\")"
   ]
  },
  {
   "cell_type": "markdown",
   "metadata": {},
   "source": [
    "## EfficientNet + Mixup"
   ]
  },
  {
   "cell_type": "code",
   "execution_count": null,
   "metadata": {
    "ExecuteTime": {
     "end_time": "2020-06-14T12:59:56.239634Z",
     "start_time": "2020-06-14T12:40:09.319Z"
    }
   },
   "outputs": [],
   "source": [
    "\n",
    "EPOCH = 50\n",
    "DEVICE = \"cuda:1\"\n",
    "model = MangoNet().to(DEVICE)\n",
    "\n",
    "ce = torch.nn.NLLLoss()\n",
    "opt = torch.optim.Adam([{'params': model.parameters(), 'lr': 0.0001}])\n",
    "# opt = torch.optim.SGD(model.parameters(), lr=0.001, momentum=0.9, weight_decay = 0.000005)\n",
    "for i in range(EPOCH):\n",
    "    model.train()\n",
    "    for data, label in tqdm(train_loader):\n",
    "        data, label = data.to(DEVICE), label.to(DEVICE)\n",
    "        out1 = model(data)\n",
    "        out1 = F.log_softmax(out1,1)\n",
    "        loss = ce(out1,label)\n",
    "        mixed_x, y_a, y_b, lam = mixup_data(data, label)\n",
    "        pred = model(mixed_x)\n",
    "        mixloss = mixup_criterion(ce, pred, y_a, y_b, lam)\n",
    "        closs = loss+mixloss\n",
    "        closs.backward()\n",
    "        opt.step()\n",
    "        opt.zero_grad()\n",
    "    print(closs)\n",
    "    model.eval()\n",
    "    correct = 0\n",
    "    for data, label in tqdm(val_loader):\n",
    "        data, label = data.to(DEVICE), label.to(DEVICE)\n",
    "        out1 = model(data)\n",
    "\n",
    "        pred = torch.max(out1,axis=1)[1]\n",
    "        correct += torch.sum((label==pred).int()).detach().item()\n",
    "    print(\"valacc:\",correct/val_n)\n",
    "    model.eval()\n",
    "    correct = 0\n",
    "    for data, label in tqdm(train_loader):\n",
    "        data, label = data.to(DEVICE), label.to(DEVICE)\n",
    "        out1 = model(data)\n",
    "        pred = torch.max(out1,axis=1)[1]\n",
    "        correct += torch.sum((label==pred).int()).detach().item()\n",
    "    print(\"trainacc:\",correct/train_n)\n",
    "    torch.save(model.state_dict(), \"model\")\n",
    "#     "
   ]
  },
  {
   "cell_type": "markdown",
   "metadata": {
    "ExecuteTime": {
     "end_time": "2020-05-18T13:21:31.414996Z",
     "start_time": "2020-05-18T13:21:31.194918Z"
    }
   },
   "source": [
    "## DFL Feature Visualization"
   ]
  },
  {
   "cell_type": "code",
   "execution_count": null,
   "metadata": {
    "ExecuteTime": {
     "end_time": "2020-06-15T06:12:49.411985Z",
     "start_time": "2020-06-15T06:10:11.985833Z"
    }
   },
   "outputs": [],
   "source": [
    "\n",
    "DEVICE = \"cuda:1\"\n",
    "model = DFL_VGG16().to(DEVICE)\n",
    "model.load_state_dict(torch.load(\"DFL_VGG16\"))\n",
    "model.eval()\n",
    "correct = 0\n",
    "preds,labels,val_label,val_pred=[],[],[],[]\n",
    "test_feature_a,train_feature_a,val_feature_a=[],[],[]\n",
    "for data in tqdm(test_loader):\n",
    "    data = data.to(DEVICE)\n",
    "    out1,out2,out3,feature_a,feature_b = model(data)\n",
    "    test_feature_a.append(feature_b.data.cpu())\n",
    "    out = out1+out2+0.1*out3\n",
    "    pred = torch.max(out,axis=1)[1]\n",
    "    preds.append(pred)\n",
    "for data,label in tqdm(val_loader):\n",
    "    data,label = data.to(DEVICE),label.to(DEVICE)\n",
    "    out1,out2,out3,feature_a,feature_b = model(data)\n",
    "    val_feature_a.append(feature_b.data.cpu())\n",
    "    val_label.append(label.cpu())\n",
    "for data,label in tqdm(train_loader):\n",
    "    data,label = data.to(DEVICE),label.to(DEVICE)\n",
    "    out1,out2,out3,feature_a,feature_b = model(data)\n",
    "    train_feature_a.append(feature_b.data.cpu())\n",
    "    labels.append(label.cpu())\n",
    "test_feature_a = np.asarray(torch.cat(test_feature_a).cpu().numpy())\n",
    "train_feature_a = np.asarray(torch.cat(train_feature_a).cpu().numpy())\n",
    "val_feature_a = np.asarray(torch.cat(val_feature_a).cpu().numpy())\n",
    "labels = np.asarray(torch.cat(labels).cpu().numpy())\n",
    "val_label = np.asarray(torch.cat(val_label).cpu().numpy())\n",
    "# preds = np.asarray(torch.cat(preds).cpu().numpy())\n",
    "#     correct += torch.sum((label==pred).int()).detach().item()\n",
    "# print(\"trainacc:\",correct/val_n)\n",
    "n=300\n",
    "a = np.concatenate((train_feature_a[:n].reshape(n,-1),test_feature_a[:n].reshape(n,-1)),axis=0)\n",
    "a = np.concatenate((a,val_feature_a[:n].reshape(n,-1)),axis=0)\n",
    "X_embedded = TSNE(n_components=2).fit_transform(a)\n",
    "plt.scatter(X_embedded[:n,0],X_embedded[:n,1],c=labels[:n],label=\"train\",marker=\".\",s=50)\n",
    "plt.scatter(X_embedded[n:2*n,0],X_embedded[n:2*n,1],c=\"black\",label=\"test\",marker=\".\",s=50)\n",
    "plt.scatter(X_embedded[2*n:,0],X_embedded[2*n:,1],c=val_label[:n],label=\"val\",marker=\".\",s=50)\n",
    "plt.legend(loc='upper right')\n",
    "plt.show()"
   ]
  },
  {
   "cell_type": "markdown",
   "metadata": {},
   "source": [
    "## EfficientNet Feature Visualization"
   ]
  },
  {
   "cell_type": "code",
   "execution_count": null,
   "metadata": {
    "ExecuteTime": {
     "end_time": "2020-06-15T07:29:08.877540Z",
     "start_time": "2020-06-15T07:29:07.319941Z"
    }
   },
   "outputs": [],
   "source": [
    "DEVICE = \"cuda:1\"\n",
    "\n",
    "class sep_effiecient(nn.Module):\n",
    "    def __init__(self):\n",
    "        super(sep_effiecient, self).__init__()\n",
    "        self.model = MangoNet().to(DEVICE)\n",
    "        self.model.load_state_dict(torch.load(\"model\"))\n",
    "    def forward(self, x):\n",
    "        f = self.model.backbone.extract_features(x)\n",
    "        return f\n",
    "correct = 0\n",
    "preds,labels,val_label,val_pred=[],[],[],[]\n",
    "test_feature_a,train_feature_a,val_feature_a=[],[],[]\n",
    "model = sep_effiecient().to(DEVICE)\n",
    "for data in tqdm(test_loader):\n",
    "    data = data.to(DEVICE)\n",
    "    feature_b = model(data)\n",
    "    test_feature_a.append(feature_b.data.cpu())\n",
    "#     pred = torch.max(out,axis=1)[1]\n",
    "#     preds.append(pred)\n",
    "for data,label in tqdm(val_loader):\n",
    "    data,label = data.to(DEVICE),label.to(DEVICE)\n",
    "    feature_b = model(data)\n",
    "    val_feature_a.append(feature_b.data.cpu())\n",
    "    val_label.append(label.cpu())\n",
    "for data,label in tqdm(train_loader):\n",
    "    data,label = data.to(DEVICE),label.to(DEVICE)\n",
    "    feature_b = model(data)\n",
    "    train_feature_a.append(feature_b.data.cpu())\n",
    "    labels.append(label.cpu())\n",
    "test_feature_a = np.asarray(torch.cat(test_feature_a).cpu().numpy())\n",
    "train_feature_a = np.asarray(torch.cat(train_feature_a).cpu().numpy())\n",
    "val_feature_a = np.asarray(torch.cat(val_feature_a).cpu().numpy())\n",
    "labels = np.asarray(torch.cat(labels).cpu().numpy())\n",
    "val_label = np.asarray(torch.cat(val_label).cpu().numpy())\n",
    "\n",
    "train_feature_a = np.mean(train_feature_a,axis=(2,3))\n",
    "test_feature_a = np.mean(test_feature_a,axis=(2,3))\n",
    "val_feature_a = np.mean(val_feature_a,axis=(2,3))\n",
    "n=300\n",
    "a = np.concatenate((train_feature_a[:n].reshape(n,-1),test_feature_a[:n].reshape(n,-1)),axis=0)\n",
    "a = np.concatenate((a,val_feature_a[:n].reshape(n,-1)),axis=0)\n",
    "X_embedded = TSNE(n_components=2).fit_transform(a)\n",
    "plt.scatter(X_embedded[:n,0],X_embedded[:n,1],c=labels[:n],label=\"train\",marker=\".\",s=50)\n",
    "plt.scatter(X_embedded[n:2*n,0],X_embedded[n:2*n,1],c=\"black\",label=\"test\",marker=\".\",s=50)\n",
    "plt.scatter(X_embedded[2*n:,0],X_embedded[2*n:,1],c=val_label[:n],label=\"val\",marker=\".\",s=50)\n",
    "plt.legend(loc='upper right')\n",
    "# plt.savefig(method+\"scatter\"+str(step)+\".png\")\n",
    "plt.show()"
   ]
  },
  {
   "cell_type": "markdown",
   "metadata": {},
   "source": [
    "## EfficientNet Testing"
   ]
  },
  {
   "cell_type": "code",
   "execution_count": null,
   "metadata": {
    "ExecuteTime": {
     "end_time": "2020-06-15T07:13:36.461672Z",
     "start_time": "2020-06-15T07:13:36.171687Z"
    }
   },
   "outputs": [],
   "source": [
    "DEVICE = \"cuda:1\"\n",
    "model = MangoNet().to(DEVICE)\n",
    "model.load_state_dict(torch.load(\"model\"))\n",
    "model.eval()\n",
    "correct = 0\n",
    "preds=[]\n",
    "labels=[]\n",
    "for data,label in tqdm(val_loader):\n",
    "    data,label = data.to(DEVICE),label.to(DEVICE)\n",
    "    out = model(data)\n",
    "#     out = out1+out2+0.1*out3\n",
    "    pred = torch.max(out,axis=1)[1]\n",
    "    preds.append(pred)\n",
    "    labels.append(label)\n",
    "preds = np.asarray(torch.cat(preds).cpu().numpy())\n",
    "labels = np.asarray(torch.cat(labels).cpu().numpy())"
   ]
  },
  {
   "cell_type": "markdown",
   "metadata": {},
   "source": [
    "## Confusion Matrix"
   ]
  },
  {
   "cell_type": "code",
   "execution_count": null,
   "metadata": {
    "ExecuteTime": {
     "end_time": "2020-06-15T07:27:17.743562Z",
     "start_time": "2020-06-15T07:26:59.930941Z"
    }
   },
   "outputs": [],
   "source": [
    "model = DFL_VGG16().to(DEVICE)\n",
    "model.load_state_dict(torch.load(\"DFL_VGG16\"))\n",
    "model.eval()\n",
    "correct = 0\n",
    "preds=[]\n",
    "labels=[]\n",
    "for data,label in tqdm(val_loader):\n",
    "    data,label = data.to(DEVICE),label.to(DEVICE)\n",
    "    out1,out2,out3,feature_a,feature_b = model(data)\n",
    "    out = out1+out2+0.1*out3\n",
    "    pred = torch.max(out,axis=1)[1]\n",
    "    preds.append(pred)\n",
    "    labels.append(label)\n",
    "preds = np.asarray(torch.cat(preds).cpu().numpy())\n",
    "labels = np.asarray(torch.cat(labels).cpu().numpy())\n",
    "cnf_matrix = confusion_matrix(labels, preds)\n",
    "plot_confusion_matrix(cnf_matrix,classes=[a for a in range(3)],normalize=True)\n",
    "plt.show()\n",
    "\n",
    "DEVICE = \"cuda:0\"\n",
    "model = MangoNet().to(DEVICE)\n",
    "model.load_state_dict(torch.load(\"model\"))\n",
    "model.eval()\n",
    "correct = 0\n",
    "preds,labels=[],[]\n",
    "for data,label in tqdm(val_loader):\n",
    "    data = data.to(DEVICE)\n",
    "    out = model(data)\n",
    "#     out = out1+out2+0.1*out3\n",
    "    pred = torch.max(out,axis=1)[1]\n",
    "    labels.append(label)\n",
    "    preds.append(pred)\n",
    "preds = np.asarray(torch.cat(preds).cpu().numpy())\n",
    "labels = np.asarray(torch.cat(labels).cpu().numpy())\n",
    "cnf_matrix = confusion_matrix(labels, preds)\n",
    "plot_confusion_matrix(cnf_matrix,classes=[a for a in range(3)],normalize=True)\n",
    "plt.show()"
   ]
  },
  {
   "cell_type": "markdown",
   "metadata": {},
   "source": [
    "## Submit Result"
   ]
  },
  {
   "cell_type": "code",
   "execution_count": null,
   "metadata": {
    "ExecuteTime": {
     "end_time": "2020-06-14T12:59:56.242308Z",
     "start_time": "2020-06-14T12:40:09.339Z"
    }
   },
   "outputs": [],
   "source": [
    "\n",
    "DEVICE = \"cuda:1\"\n",
    "model = MangoNet().to(DEVICE)\n",
    "model.load_state_dict(torch.load(\"model\"))\n",
    "model.eval()\n",
    "correct = 0\n",
    "preds=[]\n",
    "for data in tqdm(test_loader):\n",
    "    data = data.to(DEVICE)\n",
    "    out = model(data)\n",
    "#     out = out1+out2+0.1*out3\n",
    "    pred = torch.max(out,axis=1)[1]\n",
    "    preds.append(pred)\n",
    "preds = np.asarray(torch.cat(preds).cpu().numpy())\n",
    "preds = np.where(preds==0, \"A\", preds)\n",
    "preds = np.where(preds==\"1\", \"B\", preds)\n",
    "preds = np.where(preds==\"2\", \"C\", preds)\n",
    "df = pd.read_csv(\"test_example.csv\")\n",
    "df[\"label\"]=pd.Series(preds)\n",
    "df = df.set_index(\"image_id\")\n",
    "df.to_csv(\"result_DFL.csv\")"
   ]
  }
 ],
 "metadata": {
  "kernelspec": {
   "display_name": "Python [conda env:chekuei]",
   "language": "python",
   "name": "conda-env-chekuei-py"
  },
  "language_info": {
   "codemirror_mode": {
    "name": "ipython",
    "version": 3
   },
   "file_extension": ".py",
   "mimetype": "text/x-python",
   "name": "python",
   "nbconvert_exporter": "python",
   "pygments_lexer": "ipython3",
   "version": "3.6.9"
  },
  "toc": {
   "base_numbering": 1,
   "nav_menu": {},
   "number_sections": true,
   "sideBar": true,
   "skip_h1_title": false,
   "title_cell": "Table of Contents",
   "title_sidebar": "Contents",
   "toc_cell": false,
   "toc_position": {},
   "toc_section_display": true,
   "toc_window_display": false
  },
  "varInspector": {
   "cols": {
    "lenName": 16,
    "lenType": 16,
    "lenVar": 40
   },
   "kernels_config": {
    "python": {
     "delete_cmd_postfix": "",
     "delete_cmd_prefix": "del ",
     "library": "var_list.py",
     "varRefreshCmd": "print(var_dic_list())"
    },
    "r": {
     "delete_cmd_postfix": ") ",
     "delete_cmd_prefix": "rm(",
     "library": "var_list.r",
     "varRefreshCmd": "cat(var_dic_list()) "
    }
   },
   "types_to_exclude": [
    "module",
    "function",
    "builtin_function_or_method",
    "instance",
    "_Feature"
   ],
   "window_display": false
  }
 },
 "nbformat": 4,
 "nbformat_minor": 4
}
